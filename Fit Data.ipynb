{
 "cells": [
  {
   "cell_type": "code",
   "execution_count": null,
   "metadata": {},
   "outputs": [],
   "source": [
    "import XPSTools\n",
    "\n",
    "xps = XPSTools.XPS('C:\\\\Users\\\\larue\\\\Chapman University\\\\LaRue CatLab - Data\\\\2022\\\\07.06-11 SSRL')\n",
    "\n",
    "xps.UI()"
   ]
  },
  {
   "cell_type": "markdown",
   "metadata": {},
   "source": [
    " "
   ]
  }
 ],
 "metadata": {
  "kernelspec": {
   "display_name": "Python 3 (ipykernel)",
   "language": "python",
   "name": "python3"
  },
  "language_info": {
   "codemirror_mode": {
    "name": "ipython",
    "version": 3
   },
   "file_extension": ".py",
   "mimetype": "text/x-python",
   "name": "python",
   "nbconvert_exporter": "python",
   "pygments_lexer": "ipython3",
   "version": "3.9.13"
  },
  "vscode": {
   "interpreter": {
    "hash": "e43bdb5986b97db0d92ad2d32f4936b3d005a348c5b7af291a6be0e195e0a018"
   }
  }
 },
 "nbformat": 4,
 "nbformat_minor": 4
}
